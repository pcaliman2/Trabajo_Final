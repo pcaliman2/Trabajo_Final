{
 "cells": [
  {
   "cell_type": "code",
   "execution_count": 1,
   "metadata": {},
   "outputs": [],
   "source": [
    "from sklearn.model_selection import train_test_split\n",
    "from sklearn.tree import DecisionTreeClassifier\n",
    "import pandas as pd\n",
    "from sklearn.preprocessing import StandardScaler\n",
    "from sklearn.neighbors import KNeighborsClassifier\n",
    "from sklearn.feature_extraction.text import CountVectorizer\n",
    "from sklearn.metrics import accuracy_score, f1_score, precision_score, recall_score, classification_report\n",
    "from sklearn.model_selection import train_test_split\n",
    "from sklearn.naive_bayes import GaussianNB\n",
    "from sklearn.naive_bayes import MultinomialNB\n",
    "from sklearn.naive_bayes import BernoulliNB\n",
    "import matplotlib.pyplot as plt\n",
    "import seaborn as sns\n",
    "from sklearn.metrics import confusion_matrix\n",
    "from sklearn.metrics import precision_score, recall_score, f1_score, accuracy_score, mean_squared_error, r2_score\n",
    "#"
   ]
  },
  {
   "cell_type": "code",
   "execution_count": null,
   "metadata": {},
   "outputs": [
    {
     "name": "stdout",
     "output_type": "stream",
     "text": [
      "           id                                                url  \\\n",
      "0  7222695916  https://prescott.craigslist.org/cto/d/prescott...   \n",
      "1  7218891961  https://fayar.craigslist.org/ctd/d/bentonville...   \n",
      "2  7221797935  https://keys.craigslist.org/cto/d/summerland-k...   \n",
      "3  7222270760  https://worcester.craigslist.org/cto/d/west-br...   \n",
      "4  7210384030  https://greensboro.craigslist.org/cto/d/trinit...   \n",
      "\n",
      "                   region                         region_url  price  year  \\\n",
      "0                prescott    https://prescott.craigslist.org   6000   NaN   \n",
      "1            fayetteville       https://fayar.craigslist.org  11900   NaN   \n",
      "2            florida keys        https://keys.craigslist.org  21000   NaN   \n",
      "3  worcester / central MA   https://worcester.craigslist.org   1500   NaN   \n",
      "4              greensboro  https://greensboro.craigslist.org   4900   NaN   \n",
      "\n",
      "  manufacturer model condition cylinders  ... size  type paint_color  \\\n",
      "0          NaN   NaN       NaN       NaN  ...  NaN   NaN         NaN   \n",
      "1          NaN   NaN       NaN       NaN  ...  NaN   NaN         NaN   \n",
      "2          NaN   NaN       NaN       NaN  ...  NaN   NaN         NaN   \n",
      "3          NaN   NaN       NaN       NaN  ...  NaN   NaN         NaN   \n",
      "4          NaN   NaN       NaN       NaN  ...  NaN   NaN         NaN   \n",
      "\n",
      "  image_url description county state lat long posting_date  \n",
      "0       NaN         NaN    NaN    az NaN  NaN          NaN  \n",
      "1       NaN         NaN    NaN    ar NaN  NaN          NaN  \n",
      "2       NaN         NaN    NaN    fl NaN  NaN          NaN  \n",
      "3       NaN         NaN    NaN    ma NaN  NaN          NaN  \n",
      "4       NaN         NaN    NaN    nc NaN  NaN          NaN  \n",
      "\n",
      "[5 rows x 26 columns]\n",
      "<class 'pandas.core.frame.DataFrame'>\n",
      "RangeIndex: 426880 entries, 0 to 426879\n",
      "Data columns (total 26 columns):\n",
      " #   Column        Non-Null Count   Dtype  \n",
      "---  ------        --------------   -----  \n",
      " 0   id            426880 non-null  int64  \n",
      " 1   url           426880 non-null  object \n",
      " 2   region        426880 non-null  object \n",
      " 3   region_url    426880 non-null  object \n",
      " 4   price         426880 non-null  int64  \n",
      " 5   year          425675 non-null  float64\n",
      " 6   manufacturer  409234 non-null  object \n",
      " 7   model         421603 non-null  object \n",
      " 8   condition     252776 non-null  object \n",
      " 9   cylinders     249202 non-null  object \n",
      " 10  fuel          423867 non-null  object \n",
      " 11  odometer      422480 non-null  float64\n",
      " 12  title_status  418638 non-null  object \n",
      " 13  transmission  424324 non-null  object \n",
      " 14  VIN           265838 non-null  object \n",
      " 15  drive         296313 non-null  object \n",
      " 16  size          120519 non-null  object \n",
      " 17  type          334022 non-null  object \n",
      " 18  paint_color   296677 non-null  object \n",
      " 19  image_url     426812 non-null  object \n",
      " 20  description   426810 non-null  object \n",
      " 21  county        0 non-null       float64\n",
      " 22  state         426880 non-null  object \n",
      " 23  lat           420331 non-null  float64\n",
      " 24  long          420331 non-null  float64\n",
      " 25  posting_date  426812 non-null  object \n",
      "dtypes: float64(5), int64(2), object(19)\n",
      "memory usage: 84.7+ MB\n",
      "None\n",
      "Index(['id', 'url', 'region', 'region_url', 'price', 'year', 'manufacturer',\n",
      "       'model', 'condition', 'cylinders', 'fuel', 'odometer', 'title_status',\n",
      "       'transmission', 'VIN', 'drive', 'size', 'type', 'paint_color',\n",
      "       'image_url', 'description', 'county', 'state', 'lat', 'long',\n",
      "       'posting_date'],\n",
      "      dtype='object')\n",
      "(426880, 26)\n"
     ]
    }
   ],
   "source": [
    "#===============================================================================\n",
    "#                Cargar Archivos\n",
    "#===============================================================================\n",
    "\n",
    "Ruta_Arch = \"../../vehicles.csv\"\n",
    "\n",
    "total_data= pd.read_csv(Ruta_Arch, sep = \",\")\n"
   ]
  },
  {
   "cell_type": "code",
   "execution_count": 7,
   "metadata": {},
   "outputs": [
    {
     "name": "stdout",
     "output_type": "stream",
     "text": [
      "            id                                                url  \\\n",
      "0   7222695916  https://prescott.craigslist.org/cto/d/prescott...   \n",
      "1   7218891961  https://fayar.craigslist.org/ctd/d/bentonville...   \n",
      "2   7221797935  https://keys.craigslist.org/cto/d/summerland-k...   \n",
      "3   7222270760  https://worcester.craigslist.org/cto/d/west-br...   \n",
      "4   7210384030  https://greensboro.craigslist.org/cto/d/trinit...   \n",
      "5   7222379453  https://hudsonvalley.craigslist.org/cto/d/west...   \n",
      "6   7221952215  https://hudsonvalley.craigslist.org/cto/d/west...   \n",
      "7   7220195662  https://hudsonvalley.craigslist.org/cto/d/poug...   \n",
      "8   7209064557  https://medford.craigslist.org/cto/d/grants-pa...   \n",
      "9   7219485069  https://erie.craigslist.org/cto/d/erie-2012-su...   \n",
      "10  7218893038  https://elpaso.craigslist.org/ctd/d/el-paso-20...   \n",
      "11  7218325704  https://elpaso.craigslist.org/ctd/d/el-paso-20...   \n",
      "12  7217788283  https://elpaso.craigslist.org/ctd/d/el-paso-20...   \n",
      "13  7217147606  https://elpaso.craigslist.org/ctd/d/el-paso-20...   \n",
      "14  7209027818  https://elpaso.craigslist.org/ctd/d/el-paso-20...   \n",
      "15  7223509794  https://bellingham.craigslist.org/ctd/d/bellin...   \n",
      "16  7222753076  https://bellingham.craigslist.org/ctd/d/bellin...   \n",
      "17  7222206015  https://bellingham.craigslist.org/ctd/d/bellin...   \n",
      "18  7220030122  https://bellingham.craigslist.org/ctd/d/bellin...   \n",
      "19  7218423006  https://bellingham.craigslist.org/ctd/d/bellin...   \n",
      "20  7216672204  https://bellingham.craigslist.org/ctd/d/bellin...   \n",
      "21  7215617048  https://bellingham.craigslist.org/ctd/d/bellin...   \n",
      "22  7213839225  https://bellingham.craigslist.org/ctd/d/bellin...   \n",
      "23  7208549803  https://bellingham.craigslist.org/ctd/d/bellin...   \n",
      "24  7213843538  https://skagit.craigslist.org/ctd/d/bellingham...   \n",
      "\n",
      "                    region                           region_url  price  year  \\\n",
      "0                 prescott      https://prescott.craigslist.org   6000   NaN   \n",
      "1             fayetteville         https://fayar.craigslist.org  11900   NaN   \n",
      "2             florida keys          https://keys.craigslist.org  21000   NaN   \n",
      "3   worcester / central MA     https://worcester.craigslist.org   1500   NaN   \n",
      "4               greensboro    https://greensboro.craigslist.org   4900   NaN   \n",
      "5            hudson valley  https://hudsonvalley.craigslist.org   1600   NaN   \n",
      "6            hudson valley  https://hudsonvalley.craigslist.org   1000   NaN   \n",
      "7            hudson valley  https://hudsonvalley.craigslist.org  15995   NaN   \n",
      "8          medford-ashland       https://medford.craigslist.org   5000   NaN   \n",
      "9                     erie          https://erie.craigslist.org   3000   NaN   \n",
      "10                 el paso        https://elpaso.craigslist.org      0   NaN   \n",
      "11                 el paso        https://elpaso.craigslist.org      0   NaN   \n",
      "12                 el paso        https://elpaso.craigslist.org      0   NaN   \n",
      "13                 el paso        https://elpaso.craigslist.org      0   NaN   \n",
      "14                 el paso        https://elpaso.craigslist.org      0   NaN   \n",
      "15              bellingham    https://bellingham.craigslist.org  13995   NaN   \n",
      "16              bellingham    https://bellingham.craigslist.org  24999   NaN   \n",
      "17              bellingham    https://bellingham.craigslist.org  21850   NaN   \n",
      "18              bellingham    https://bellingham.craigslist.org  26850   NaN   \n",
      "19              bellingham    https://bellingham.craigslist.org  11999   NaN   \n",
      "20              bellingham    https://bellingham.craigslist.org  24999   NaN   \n",
      "21              bellingham    https://bellingham.craigslist.org  21850   NaN   \n",
      "22              bellingham    https://bellingham.craigslist.org  26850   NaN   \n",
      "23              bellingham    https://bellingham.craigslist.org  11999   NaN   \n",
      "24   skagit / island / SJI        https://skagit.craigslist.org  24999   NaN   \n",
      "\n",
      "   manufacturer model condition cylinders  ... size  type paint_color  \\\n",
      "0           NaN   NaN       NaN       NaN  ...  NaN   NaN         NaN   \n",
      "1           NaN   NaN       NaN       NaN  ...  NaN   NaN         NaN   \n",
      "2           NaN   NaN       NaN       NaN  ...  NaN   NaN         NaN   \n",
      "3           NaN   NaN       NaN       NaN  ...  NaN   NaN         NaN   \n",
      "4           NaN   NaN       NaN       NaN  ...  NaN   NaN         NaN   \n",
      "5           NaN   NaN       NaN       NaN  ...  NaN   NaN         NaN   \n",
      "6           NaN   NaN       NaN       NaN  ...  NaN   NaN         NaN   \n",
      "7           NaN   NaN       NaN       NaN  ...  NaN   NaN         NaN   \n",
      "8           NaN   NaN       NaN       NaN  ...  NaN   NaN         NaN   \n",
      "9           NaN   NaN       NaN       NaN  ...  NaN   NaN         NaN   \n",
      "10          NaN   NaN       NaN       NaN  ...  NaN   NaN         NaN   \n",
      "11          NaN   NaN       NaN       NaN  ...  NaN   NaN         NaN   \n",
      "12          NaN   NaN       NaN       NaN  ...  NaN   NaN         NaN   \n",
      "13          NaN   NaN       NaN       NaN  ...  NaN   NaN         NaN   \n",
      "14          NaN   NaN       NaN       NaN  ...  NaN   NaN         NaN   \n",
      "15          NaN   NaN       NaN       NaN  ...  NaN   NaN         NaN   \n",
      "16          NaN   NaN       NaN       NaN  ...  NaN   NaN         NaN   \n",
      "17          NaN   NaN       NaN       NaN  ...  NaN   NaN         NaN   \n",
      "18          NaN   NaN       NaN       NaN  ...  NaN   NaN         NaN   \n",
      "19          NaN   NaN       NaN       NaN  ...  NaN   NaN         NaN   \n",
      "20          NaN   NaN       NaN       NaN  ...  NaN   NaN         NaN   \n",
      "21          NaN   NaN       NaN       NaN  ...  NaN   NaN         NaN   \n",
      "22          NaN   NaN       NaN       NaN  ...  NaN   NaN         NaN   \n",
      "23          NaN   NaN       NaN       NaN  ...  NaN   NaN         NaN   \n",
      "24          NaN   NaN       NaN       NaN  ...  NaN   NaN         NaN   \n",
      "\n",
      "   image_url description county state lat long posting_date  \n",
      "0        NaN         NaN    NaN    az NaN  NaN          NaN  \n",
      "1        NaN         NaN    NaN    ar NaN  NaN          NaN  \n",
      "2        NaN         NaN    NaN    fl NaN  NaN          NaN  \n",
      "3        NaN         NaN    NaN    ma NaN  NaN          NaN  \n",
      "4        NaN         NaN    NaN    nc NaN  NaN          NaN  \n",
      "5        NaN         NaN    NaN    ny NaN  NaN          NaN  \n",
      "6        NaN         NaN    NaN    ny NaN  NaN          NaN  \n",
      "7        NaN         NaN    NaN    ny NaN  NaN          NaN  \n",
      "8        NaN         NaN    NaN    or NaN  NaN          NaN  \n",
      "9        NaN         NaN    NaN    pa NaN  NaN          NaN  \n",
      "10       NaN         NaN    NaN    tx NaN  NaN          NaN  \n",
      "11       NaN         NaN    NaN    tx NaN  NaN          NaN  \n",
      "12       NaN         NaN    NaN    tx NaN  NaN          NaN  \n",
      "13       NaN         NaN    NaN    tx NaN  NaN          NaN  \n",
      "14       NaN         NaN    NaN    tx NaN  NaN          NaN  \n",
      "15       NaN         NaN    NaN    wa NaN  NaN          NaN  \n",
      "16       NaN         NaN    NaN    wa NaN  NaN          NaN  \n",
      "17       NaN         NaN    NaN    wa NaN  NaN          NaN  \n",
      "18       NaN         NaN    NaN    wa NaN  NaN          NaN  \n",
      "19       NaN         NaN    NaN    wa NaN  NaN          NaN  \n",
      "20       NaN         NaN    NaN    wa NaN  NaN          NaN  \n",
      "21       NaN         NaN    NaN    wa NaN  NaN          NaN  \n",
      "22       NaN         NaN    NaN    wa NaN  NaN          NaN  \n",
      "23       NaN         NaN    NaN    wa NaN  NaN          NaN  \n",
      "24       NaN         NaN    NaN    wa NaN  NaN          NaN  \n",
      "\n",
      "[25 rows x 26 columns]\n"
     ]
    }
   ],
   "source": [
    "print(total_data.head(25))\n",
    "\n"
   ]
  },
  {
   "cell_type": "code",
   "execution_count": 5,
   "metadata": {},
   "outputs": [
    {
     "name": "stdout",
     "output_type": "stream",
     "text": [
      "<class 'pandas.core.frame.DataFrame'>\n",
      "RangeIndex: 426880 entries, 0 to 426879\n",
      "Data columns (total 26 columns):\n",
      " #   Column        Non-Null Count   Dtype  \n",
      "---  ------        --------------   -----  \n",
      " 0   id            426880 non-null  int64  \n",
      " 1   url           426880 non-null  object \n",
      " 2   region        426880 non-null  object \n",
      " 3   region_url    426880 non-null  object \n",
      " 4   price         426880 non-null  int64  \n",
      " 5   year          425675 non-null  float64\n",
      " 6   manufacturer  409234 non-null  object \n",
      " 7   model         421603 non-null  object \n",
      " 8   condition     252776 non-null  object \n",
      " 9   cylinders     249202 non-null  object \n",
      " 10  fuel          423867 non-null  object \n",
      " 11  odometer      422480 non-null  float64\n",
      " 12  title_status  418638 non-null  object \n",
      " 13  transmission  424324 non-null  object \n",
      " 14  VIN           265838 non-null  object \n",
      " 15  drive         296313 non-null  object \n",
      " 16  size          120519 non-null  object \n",
      " 17  type          334022 non-null  object \n",
      " 18  paint_color   296677 non-null  object \n",
      " 19  image_url     426812 non-null  object \n",
      " 20  description   426810 non-null  object \n",
      " 21  county        0 non-null       float64\n",
      " 22  state         426880 non-null  object \n",
      " 23  lat           420331 non-null  float64\n",
      " 24  long          420331 non-null  float64\n",
      " 25  posting_date  426812 non-null  object \n",
      "dtypes: float64(5), int64(2), object(19)\n",
      "memory usage: 84.7+ MB\n",
      "None\n",
      "Index(['id', 'url', 'region', 'region_url', 'price', 'year', 'manufacturer',\n",
      "       'model', 'condition', 'cylinders', 'fuel', 'odometer', 'title_status',\n",
      "       'transmission', 'VIN', 'drive', 'size', 'type', 'paint_color',\n",
      "       'image_url', 'description', 'county', 'state', 'lat', 'long',\n",
      "       'posting_date'],\n",
      "      dtype='object')\n",
      "(426880, 26)\n"
     ]
    }
   ],
   "source": [
    "print(total_data.info())\n",
    "print(total_data.columns)\n",
    "print(total_data.shape)"
   ]
  },
  {
   "cell_type": "markdown",
   "metadata": {},
   "source": [
    "### LAs Varible Numericas detectadas son:\n",
    "\n",
    "\n",
    " 4   price         426880 non-null  int64\n",
    "\n",
    " 5   year          425675 non-null  float64\n",
    "\n",
    " 11  odometer      422480 non-null  float64\n",
    "\n",
    " 21  county        0 non-null       float64\n",
    "\n",
    " 23  lat           420331 non-null  float64\n",
    "\n",
    " 24  long          420331 non-null  float64\n",
    "\n",
    "\n",
    "### Se obtiene como primera conclusion que:\n",
    " "
   ]
  },
  {
   "cell_type": "code",
   "execution_count": null,
   "metadata": {},
   "outputs": [],
   "source": [
    "### El \"Price\" que es nuestra Variable Objetivo no presenta Registros Nulos.\n",
    "\n",
    "### \"year\" del Vehiculo el cual, tentativamente debe ser uno  de nuestros Valores Principales, presenta Valores Nulos.\n",
    "\n",
    "### odometer Un odómetro es un instrumento que mide la distancia total recorrida por un vehículo asi que me interesa ver que valor esta registrado alli ya que es una Variable Numerica\n",
    "\n",
    "### Por Ahora LAtitud y Longitud, si bien nos indican la coordenada donde se encuentra el Vehiculo tentativamente presenta mayor Granularidad que la Variable Categorica \"region\" que indica Zonas mas aplias en un Solo Dato"
   ]
  },
  {
   "cell_type": "code",
   "execution_count": 10,
   "metadata": {},
   "outputs": [
    {
     "name": "stdout",
     "output_type": "stream",
     "text": [
      "0             NaN\n",
      "1             NaN\n",
      "2             NaN\n",
      "3             NaN\n",
      "4             NaN\n",
      "           ...   \n",
      "426875    32226.0\n",
      "426876    12029.0\n",
      "426877     4174.0\n",
      "426878    30112.0\n",
      "426879    22716.0\n",
      "Name: odometer, Length: 426880, dtype: float64\n"
     ]
    }
   ],
   "source": [
    "print(total_data['odometer'])"
   ]
  },
  {
   "cell_type": "markdown",
   "metadata": {},
   "source": [
    "Por lo observado, presenta el Kilometraje del Vehiculo, pero Tiene Valores Nullos, esto es importante porque es una de las Variables que determina el uso y en Consecuencia el Valor del Vehiculo"
   ]
  },
  {
   "cell_type": "code",
   "execution_count": 14,
   "metadata": {},
   "outputs": [
    {
     "name": "stdout",
     "output_type": "stream",
     "text": [
      "              price       year     odometer\n",
      "count  4.268800e+05  425675.00    422480.00\n",
      "mean   7.519903e+04    2011.24     98043.33\n",
      "std    1.218228e+07       9.45    213881.50\n",
      "min    0.000000e+00    1900.00         0.00\n",
      "25%    5.900000e+03    2008.00     37704.00\n",
      "50%    1.395000e+04    2013.00     85548.00\n",
      "75%    2.648575e+04    2017.00    133542.50\n",
      "max    3.736929e+09    2022.00  10000000.00\n"
     ]
    }
   ],
   "source": [
    "#Variable Númericas Importantes\n",
    "Campoos = ['price', 'year', 'odometer']\n",
    "\n",
    "# Hacer describe y redondear a 2 decimales solo para esas columnas\n",
    "resumen = total_data[Campoos].describe().round(2)\n",
    "\n",
    "# Mostrar el resumen\n",
    "print(resumen)"
   ]
  },
  {
   "cell_type": "code",
   "execution_count": 76,
   "metadata": {},
   "outputs": [
    {
     "name": "stdout",
     "output_type": "stream",
     "text": [
      "'price': 5528 outliers detectados.\n",
      "'year': 15896 outliers detectados.\n",
      "'odometer': 2884 outliers detectados.\n"
     ]
    }
   ],
   "source": [
    "#===============================================================================\n",
    "#                Detectar Outliners\n",
    "#===============================================================================\n",
    "# Detectar outliers usando el método IQR\n",
    "outliers = {}\n",
    "\n",
    "for columna in Campoos:\n",
    "    Q1 = total_data[columna].quantile(0.25)\n",
    "    Q3 = total_data[columna].quantile(0.75)\n",
    "    IQR = Q3 - Q1\n",
    "    lower_bound = Q1 - 1.5 * IQR\n",
    "    upper_bound = Q3 + 1.8 * IQR\n",
    "    outlier_indices = total_data[(total_data[columna] < lower_bound) | (total_data[columna] > upper_bound)].index\n",
    "    outliers[columna] = len(outlier_indices)\n",
    "    print(f\"'{columna}': {len(outlier_indices)} outliers detectados.\")"
   ]
  },
  {
   "cell_type": "code",
   "execution_count": 78,
   "metadata": {},
   "outputs": [
    {
     "data": {
      "text/plain": [
       "county          426880\n",
       "size            306361\n",
       "cylinders       177678\n",
       "condition       174104\n",
       "VIN             161042\n",
       "drive           130567\n",
       "paint_color     130203\n",
       "type             92858\n",
       "manufacturer     17646\n",
       "title_status      8242\n",
       "lat               6549\n",
       "long              6549\n",
       "model             5277\n",
       "odometer          4400\n",
       "fuel              3013\n",
       "transmission      2556\n",
       "year              1205\n",
       "description         70\n",
       "posting_date        68\n",
       "image_url           68\n",
       "region_url           0\n",
       "url                  0\n",
       "id                   0\n",
       "region               0\n",
       "price                0\n",
       "state                0\n",
       "dtype: int64"
      ]
     },
     "execution_count": 78,
     "metadata": {},
     "output_type": "execute_result"
    }
   ],
   "source": [
    "#===============================================================================\n",
    "#                Missing Data Ceros, N/A\n",
    "#===============================================================================\n",
    "# Count NaN\n",
    "total_data.isnull().sum().sort_values(ascending=False)\n"
   ]
  },
  {
   "cell_type": "markdown",
   "metadata": {},
   "source": [
    "### Esta seccion se dedica a estudiar las variable"
   ]
  },
  {
   "cell_type": "code",
   "execution_count": 79,
   "metadata": {},
   "outputs": [
    {
     "data": {
      "image/png": "[encoded data removed]",
      "text/plain": [
       "<Figure size 800x600 with 2 Axes>"
      ]
     },
     "metadata": {},
     "output_type": "display_data"
    }
   ],
   "source": [
    "data_filtrada = total_data[Campoos]\n",
    "\n",
    "plt.figure(figsize=(8, 6))\n",
    "sns.heatmap(data_filtrada.corr(), annot=True, cmap='coolwarm', fmt='.2f', linewidths=0.5)\n",
    "plt.title('Matriz de Correlación (Campos seleccionados)', fontsize=14)\n",
    "plt.show()"
   ]
  },
  {
   "cell_type": "markdown",
   "metadata": {},
   "source": [
    "### Tentativamente se observa muy baja Correlacion entre \"price\" y las Variables \"year\" y \"odometer\" .  Una vez hecha la limpieza de los Datos que observamos (ceros, Nulls) Volveremos a observar las correlaciones."
   ]
  },
  {
   "cell_type": "code",
   "execution_count": 80,
   "metadata": {},
   "outputs": [],
   "source": [
    "\n",
    "#total_data2 = total_data.drop_duplicates()\n",
    "total_data2=total_data.copy()"
   ]
  },
  {
   "cell_type": "code",
   "execution_count": 81,
   "metadata": {},
   "outputs": [
    {
     "name": "stdout",
     "output_type": "stream",
     "text": [
      "<class 'pandas.core.frame.DataFrame'>\n",
      "RangeIndex: 426880 entries, 0 to 426879\n",
      "Data columns (total 19 columns):\n",
      " #   Column        Non-Null Count   Dtype  \n",
      "---  ------        --------------   -----  \n",
      " 0   region        426880 non-null  object \n",
      " 1   price         426880 non-null  int64  \n",
      " 2   year          425675 non-null  float64\n",
      " 3   manufacturer  409234 non-null  object \n",
      " 4   model         421603 non-null  object \n",
      " 5   condition     252776 non-null  object \n",
      " 6   cylinders     249202 non-null  object \n",
      " 7   fuel          423867 non-null  object \n",
      " 8   odometer      422480 non-null  float64\n",
      " 9   title_status  418638 non-null  object \n",
      " 10  transmission  424324 non-null  object \n",
      " 11  VIN           265838 non-null  object \n",
      " 12  drive         296313 non-null  object \n",
      " 13  size          120519 non-null  object \n",
      " 14  type          334022 non-null  object \n",
      " 15  paint_color   296677 non-null  object \n",
      " 16  description   426810 non-null  object \n",
      " 17  state         426880 non-null  object \n",
      " 18  posting_date  426812 non-null  object \n",
      "dtypes: float64(2), int64(1), object(16)\n",
      "memory usage: 61.9+ MB\n"
     ]
    }
   ],
   "source": [
    "# Hemos Observado que la Columna Country esta vacia.\n",
    "# Url y region_url son las direcciones Web donde se publicitan los Vehiculos.\n",
    "# Por lo explicado previamente, Latitud y Longitud tambien Vana  ser retiradas.\n",
    "# id vaa ser retirada para que no afecte las relaciones. \n",
    "# La columna \"image_url\" es solo una imagen por lo que vamos a Eliminarla\n",
    "col_drop = ['county', 'id', 'url', 'region_url', 'lat', 'long', 'image_url' ]\n",
    "total_data2.drop(columns=col_drop, inplace=True)\n",
    "total_data2.info()"
   ]
  },
  {
   "cell_type": "code",
   "execution_count": 82,
   "metadata": {},
   "outputs": [
    {
     "name": "stdout",
     "output_type": "stream",
     "text": [
      "<class 'pandas.core.frame.DataFrame'>\n",
      "RangeIndex: 426880 entries, 0 to 426879\n",
      "Data columns (total 19 columns):\n",
      " #   Column        Non-Null Count   Dtype  \n",
      "---  ------        --------------   -----  \n",
      " 0   region        426880 non-null  object \n",
      " 1   price         426880 non-null  int64  \n",
      " 2   year          425675 non-null  float64\n",
      " 3   manufacturer  409234 non-null  object \n",
      " 4   model         421603 non-null  object \n",
      " 5   condition     252776 non-null  object \n",
      " 6   cylinders     249202 non-null  object \n",
      " 7   fuel          423867 non-null  object \n",
      " 8   odometer      422480 non-null  float64\n",
      " 9   title_status  418638 non-null  object \n",
      " 10  transmission  424324 non-null  object \n",
      " 11  VIN           265838 non-null  object \n",
      " 12  drive         296313 non-null  object \n",
      " 13  size          120519 non-null  object \n",
      " 14  type          334022 non-null  object \n",
      " 15  paint_color   296677 non-null  object \n",
      " 16  description   426810 non-null  object \n",
      " 17  state         426880 non-null  object \n",
      " 18  posting_date  426812 non-null  object \n",
      "dtypes: float64(2), int64(1), object(16)\n",
      "memory usage: 61.9+ MB\n",
      "None\n",
      "Index(['region', 'price', 'year', 'manufacturer', 'model', 'condition',\n",
      "       'cylinders', 'fuel', 'odometer', 'title_status', 'transmission', 'VIN',\n",
      "       'drive', 'size', 'type', 'paint_color', 'description', 'state',\n",
      "       'posting_date'],\n",
      "      dtype='object')\n",
      "(426880, 19)\n"
     ]
    }
   ],
   "source": [
    "print(total_data2.info())\n",
    "print(total_data2.columns)\n",
    "print(total_data2.shape)"
   ]
  },
  {
   "cell_type": "markdown",
   "metadata": {},
   "source": [
    "## Me intereza Estudiar el contenido especifico de las Variable Predictoras, en partucular las queestan presentando menor número de Non-Null "
   ]
  },
  {
   "cell_type": "code",
   "execution_count": 83,
   "metadata": {},
   "outputs": [
    {
     "name": "stdout",
     "output_type": "stream",
     "text": [
      "VIN\n",
      "1FMJU1JT1HEA52352     0.1%\n",
      "3C6JR6DT3KG560649    0.09%\n",
      "1FTER1EH1LLA36301    0.09%\n",
      "5TFTX4CN3EX042751    0.09%\n",
      "1GCHTCE37G1186784    0.08%\n",
      "                     ...  \n",
      "56ZL1UJ20KP000149     0.0%\n",
      "2A8GF68446R882658     0.0%\n",
      "2HGES15535H620534     0.0%\n",
      "1FDWF37P64EA24868     0.0%\n",
      "5XXGN4A73FG370482     0.0%\n",
      "Name: proportion, Length: 118264, dtype: object\n"
     ]
    }
   ],
   "source": [
    "porcentajes = (total_data['VIN'].value_counts(normalize=True) * 100).round(2)\n",
    "porcentajes_con_signo = porcentajes.astype(str) + '%'\n",
    "print(porcentajes_con_signo)"
   ]
  },
  {
   "cell_type": "code",
   "execution_count": 84,
   "metadata": {},
   "outputs": [
    {
     "name": "stdout",
     "output_type": "stream",
     "text": [
      "drive\n",
      "4wd    44.52%\n",
      "fwd    35.61%\n",
      "rwd    19.87%\n",
      "Name: proportion, dtype: object\n"
     ]
    }
   ],
   "source": [
    "porcentajes = (total_data['drive'].value_counts(normalize=True) * 100).round(2)\n",
    "porcentajes_con_signo = porcentajes.astype(str) + '%'\n",
    "print(porcentajes_con_signo)"
   ]
  },
  {
   "cell_type": "code",
   "execution_count": 85,
   "metadata": {},
   "outputs": [
    {
     "name": "stdout",
     "output_type": "stream",
     "text": [
      "size\n",
      "full-size      52.66%\n",
      "mid-size       28.61%\n",
      "compact        16.08%\n",
      "sub-compact     2.65%\n",
      "Name: proportion, dtype: object\n"
     ]
    }
   ],
   "source": [
    "porcentajes = (total_data['size'].value_counts(normalize=True) * 100).round(2)\n",
    "porcentajes_con_signo = porcentajes.astype(str) + '%'\n",
    "print(porcentajes_con_signo)"
   ]
  },
  {
   "cell_type": "code",
   "execution_count": 86,
   "metadata": {},
   "outputs": [
    {
     "name": "stdout",
     "output_type": "stream",
     "text": [
      "type\n",
      "sedan          26.06%\n",
      "SUV            23.14%\n",
      "pickup         13.03%\n",
      "truck          10.56%\n",
      "other           6.62%\n",
      "coupe           5.75%\n",
      "hatchback       4.97%\n",
      "wagon           3.22%\n",
      "van             2.56%\n",
      "convertible     2.31%\n",
      "mini-van        1.44%\n",
      "offroad         0.18%\n",
      "bus             0.15%\n",
      "Name: proportion, dtype: object\n"
     ]
    }
   ],
   "source": [
    "porcentajes = (total_data['type'].value_counts(normalize=True) * 100).round(2)\n",
    "porcentajes_con_signo = porcentajes.astype(str) + '%'\n",
    "print(porcentajes_con_signo)"
   ]
  },
  {
   "cell_type": "code",
   "execution_count": null,
   "metadata": {},
   "outputs": [
    {
     "ename": "NameError",
     "evalue": "name 'Campoos' is not defined",
     "output_type": "error",
     "traceback": [
      "\u001b[1;31m---------------------------------------------------------------------------\u001b[0m\n",
      "\u001b[1;31mNameError\u001b[0m                                 Traceback (most recent call last)\n",
      "Cell \u001b[1;32mIn[13], line 1\u001b[0m\n",
      "\u001b[1;32m----> 1\u001b[0m \u001b[38;5;28mround\u001b[39m(total_data[\u001b[43mCampoos\u001b[49m]\u001b[38;5;241m.\u001b[39mdescribe(),\u001b[38;5;241m2\u001b[39m)\n",
      "\n",
      "\u001b[1;31mNameError\u001b[0m: name 'Campoos' is not defined"
     ]
    }
   ],
   "source": [
    "round(total_data[Campoos].describe(),2)"
   ]
  },
  {
   "cell_type": "code",
   "execution_count": 87,
   "metadata": {},
   "outputs": [
    {
     "name": "stdout",
     "output_type": "stream",
     "text": [
      "manufacturer\n",
      "ford               17.35%\n",
      "chevrolet          13.46%\n",
      "toyota              8.36%\n",
      "honda                5.2%\n",
      "nissan              4.66%\n",
      "jeep                4.65%\n",
      "ram                 4.48%\n",
      "gmc                  4.1%\n",
      "bmw                 3.59%\n",
      "dodge               3.35%\n",
      "mercedes-benz       2.89%\n",
      "hyundai             2.53%\n",
      "subaru              2.32%\n",
      "volkswagen          2.28%\n",
      "kia                 2.07%\n",
      "lexus                2.0%\n",
      "audi                1.85%\n",
      "cadillac             1.7%\n",
      "chrysler            1.47%\n",
      "acura               1.46%\n",
      "buick               1.34%\n",
      "mazda               1.33%\n",
      "infiniti            1.17%\n",
      "lincoln             1.03%\n",
      "volvo               0.82%\n",
      "mitsubishi           0.8%\n",
      "mini                0.58%\n",
      "pontiac             0.56%\n",
      "rover               0.52%\n",
      "jaguar              0.48%\n",
      "porsche             0.34%\n",
      "mercury             0.29%\n",
      "saturn              0.27%\n",
      "alfa-romeo          0.22%\n",
      "tesla               0.21%\n",
      "fiat                0.19%\n",
      "harley-davidson     0.04%\n",
      "ferrari             0.02%\n",
      "datsun              0.02%\n",
      "aston-martin        0.01%\n",
      "land rover          0.01%\n",
      "morgan               0.0%\n",
      "Name: proportion, dtype: object\n"
     ]
    }
   ],
   "source": [
    "porcentajes = (total_data['manufacturer'].value_counts(normalize=True) * 100).round(2)\n",
    "porcentajes_con_signo = porcentajes.astype(str) + '%'\n",
    "print(porcentajes_con_signo)"
   ]
  },
  {
   "cell_type": "code",
   "execution_count": 89,
   "metadata": {},
   "outputs": [
    {
     "name": "stdout",
     "output_type": "stream",
     "text": [
      "condition\n",
      "good         48.05%\n",
      "excellent    40.14%\n",
      "like new      8.38%\n",
      "fair          2.68%\n",
      "new           0.52%\n",
      "salvage       0.24%\n",
      "Name: proportion, dtype: object\n"
     ]
    }
   ],
   "source": [
    "porcentajes = (total_data['condition'].value_counts(normalize=True) * 100).round(2)\n",
    "porcentajes_con_signo = porcentajes.astype(str) + '%'\n",
    "print(porcentajes_con_signo)     "
   ]
  },
  {
   "cell_type": "code",
   "execution_count": 90,
   "metadata": {},
   "outputs": [
    {
     "name": "stdout",
     "output_type": "stream",
     "text": [
      "cylinders\n",
      "6 cylinders     37.79%\n",
      "4 cylinders     31.16%\n",
      "8 cylinders     28.92%\n",
      "5 cylinders      0.69%\n",
      "10 cylinders     0.58%\n",
      "other            0.52%\n",
      "3 cylinders      0.26%\n",
      "12 cylinders     0.08%\n",
      "Name: proportion, dtype: object\n"
     ]
    }
   ],
   "source": [
    "porcentajes = (total_data['cylinders'].value_counts(normalize=True) * 100).round(2)\n",
    "porcentajes_con_signo = porcentajes.astype(str) + '%'\n",
    "print(porcentajes_con_signo)     \n",
    "     "
   ]
  },
  {
   "cell_type": "code",
   "execution_count": 91,
   "metadata": {},
   "outputs": [
    {
     "name": "stdout",
     "output_type": "stream",
     "text": [
      "title_status\n",
      "clean         96.77%\n",
      "rebuilt        1.72%\n",
      "salvage        0.92%\n",
      "lien           0.34%\n",
      "missing        0.19%\n",
      "parts only     0.05%\n",
      "Name: proportion, dtype: object\n"
     ]
    }
   ],
   "source": [
    "porcentajes = (total_data['title_status'].value_counts(normalize=True) * 100).round(2)\n",
    "porcentajes_con_signo = porcentajes.astype(str) + '%'\n",
    "print(porcentajes_con_signo)     "
   ]
  },
  {
   "cell_type": "code",
   "execution_count": 92,
   "metadata": {},
   "outputs": [
    {
     "name": "stdout",
     "output_type": "stream",
     "text": [
      "paint_color\n",
      "white     26.72%\n",
      "black     21.19%\n",
      "silver    14.48%\n",
      "blue      10.52%\n",
      "red       10.27%\n",
      "grey       8.23%\n",
      "green      2.48%\n",
      "custom     2.26%\n",
      "brown      2.22%\n",
      "yellow     0.72%\n",
      "orange     0.67%\n",
      "purple     0.23%\n",
      "Name: proportion, dtype: object\n"
     ]
    }
   ],
   "source": [
    "porcentajes = (total_data['paint_color'].value_counts(normalize=True) * 100).round(2)\n",
    "porcentajes_con_signo = porcentajes.astype(str) + '%'\n",
    "print(porcentajes_con_signo)    "
   ]
  },
  {
   "cell_type": "code",
   "execution_count": 93,
   "metadata": {},
   "outputs": [
    {
     "name": "stdout",
     "output_type": "stream",
     "text": [
      "fuel\n",
      "gas         84.04%\n",
      "other        7.25%\n",
      "diesel       7.09%\n",
      "hybrid       1.22%\n",
      "electric      0.4%\n",
      "Name: proportion, dtype: object\n"
     ]
    }
   ],
   "source": [
    "porcentajes = (total_data['fuel'].value_counts(normalize=True) * 100).round(2)\n",
    "porcentajes_con_signo = porcentajes.astype(str) + '%'\n",
    "print(porcentajes_con_signo)   "
   ]
  },
  {
   "cell_type": "markdown",
   "metadata": {},
   "source": [
    "### Los campos VIN Todos los Elemntos son Unicos y no representan una Caracteristica que determine el Valor, por otro lado Description es la narracion del Producto (El Vehiculo) y es apreciativa y en muchos casos se repite.  Por lo que estas dos columnas Van a ser eliminadas."
   ]
  },
  {
   "cell_type": "code",
   "execution_count": 94,
   "metadata": {},
   "outputs": [
    {
     "name": "stdout",
     "output_type": "stream",
     "text": [
      "<class 'pandas.core.frame.DataFrame'>\n",
      "RangeIndex: 426880 entries, 0 to 426879\n",
      "Data columns (total 15 columns):\n",
      " #   Column        Non-Null Count   Dtype  \n",
      "---  ------        --------------   -----  \n",
      " 0   region        426880 non-null  object \n",
      " 1   price         426880 non-null  int64  \n",
      " 2   year          425675 non-null  float64\n",
      " 3   manufacturer  409234 non-null  object \n",
      " 4   model         421603 non-null  object \n",
      " 5   condition     252776 non-null  object \n",
      " 6   cylinders     249202 non-null  object \n",
      " 7   fuel          423867 non-null  object \n",
      " 8   odometer      422480 non-null  float64\n",
      " 9   title_status  418638 non-null  object \n",
      " 10  transmission  424324 non-null  object \n",
      " 11  drive         296313 non-null  object \n",
      " 12  type          334022 non-null  object \n",
      " 13  paint_color   296677 non-null  object \n",
      " 14  state         426880 non-null  object \n",
      "dtypes: float64(2), int64(1), object(12)\n",
      "memory usage: 48.9+ MB\n"
     ]
    }
   ],
   "source": [
    "col_drop2 = ['VIN', 'description','size' ,'posting_date']\n",
    "total_data2.drop(columns=col_drop2, inplace=True)\n",
    "total_data2.info()"
   ]
  },
  {
   "cell_type": "markdown",
   "metadata": {},
   "source": [
    "###   Eliminando los Elemntos Null en los campos Seleccionados.\n",
    "###  Sin embargo, si lo aplocamos directamente en este momento.   Podriamos Perde, tomando el peor caso, Cylinder, perderiamos el 42% de la data que poseemos actualmente.\n",
    "\n",
    "condition     252776 non-null  object \n",
    "\n",
    "cylinders     249202 non-null  object \n",
    "\n",
    "drive         296313 non-null  object \n",
    "\n",
    "type          334022 non-null  object \n",
    "\n",
    "paint_color   296677 non-null  object\n",
    "\n",
    "### Por lo que eliminariamos condition, cylinders\n",
    "\n"
   ]
  },
  {
   "cell_type": "code",
   "execution_count": 95,
   "metadata": {},
   "outputs": [
    {
     "name": "stdout",
     "output_type": "stream",
     "text": [
      "<class 'pandas.core.frame.DataFrame'>\n",
      "RangeIndex: 426880 entries, 0 to 426879\n",
      "Data columns (total 13 columns):\n",
      " #   Column        Non-Null Count   Dtype  \n",
      "---  ------        --------------   -----  \n",
      " 0   region        426880 non-null  object \n",
      " 1   price         426880 non-null  int64  \n",
      " 2   year          425675 non-null  float64\n",
      " 3   manufacturer  409234 non-null  object \n",
      " 4   model         421603 non-null  object \n",
      " 5   fuel          423867 non-null  object \n",
      " 6   odometer      422480 non-null  float64\n",
      " 7   title_status  418638 non-null  object \n",
      " 8   transmission  424324 non-null  object \n",
      " 9   drive         296313 non-null  object \n",
      " 10  type          334022 non-null  object \n",
      " 11  paint_color   296677 non-null  object \n",
      " 12  state         426880 non-null  object \n",
      "dtypes: float64(2), int64(1), object(10)\n",
      "memory usage: 42.3+ MB\n"
     ]
    }
   ],
   "source": [
    "col_drop2 = ['condition', 'cylinders']\n",
    "total_data2.drop(columns=col_drop2, inplace=True)\n",
    "total_data2.info()"
   ]
  },
  {
   "cell_type": "code",
   "execution_count": 96,
   "metadata": {},
   "outputs": [],
   "source": [
    "total_data3=total_data2.copy()"
   ]
  },
  {
   "cell_type": "code",
   "execution_count": 97,
   "metadata": {},
   "outputs": [
    {
     "name": "stdout",
     "output_type": "stream",
     "text": [
      "<class 'pandas.core.frame.DataFrame'>\n",
      "Index: 205777 entries, 31 to 426878\n",
      "Data columns (total 13 columns):\n",
      " #   Column        Non-Null Count   Dtype  \n",
      "---  ------        --------------   -----  \n",
      " 0   region        205777 non-null  object \n",
      " 1   price         205777 non-null  int64  \n",
      " 2   year          205777 non-null  float64\n",
      " 3   manufacturer  205777 non-null  object \n",
      " 4   model         205777 non-null  object \n",
      " 5   fuel          205777 non-null  object \n",
      " 6   odometer      205777 non-null  float64\n",
      " 7   title_status  205777 non-null  object \n",
      " 8   transmission  205777 non-null  object \n",
      " 9   drive         205777 non-null  object \n",
      " 10  type          205777 non-null  object \n",
      " 11  paint_color   205777 non-null  object \n",
      " 12  state         205777 non-null  object \n",
      "dtypes: float64(2), int64(1), object(10)\n",
      "memory usage: 22.0+ MB\n"
     ]
    }
   ],
   "source": [
    "total_data3 = total_data2.dropna()\n",
    "total_data3.info()"
   ]
  },
  {
   "cell_type": "markdown",
   "metadata": {},
   "source": [
    "### En esta Reduccion producida por la Eliminacion de los Null, hemos perdido 56% de la data.  Por lo que una eliminacion directa de los Campos, no es recomendable.  Esto Fue sobre total_data3.   Asi que la Variable Total_data2 aun contiene los datos."
   ]
  },
  {
   "cell_type": "code",
   "execution_count": 98,
   "metadata": {},
   "outputs": [
    {
     "data": {
      "text/plain": [
       "drive           130567\n",
       "paint_color     130203\n",
       "type             92858\n",
       "manufacturer     17646\n",
       "title_status      8242\n",
       "model             5277\n",
       "odometer          4400\n",
       "fuel              3013\n",
       "transmission      2556\n",
       "year              1205\n",
       "region               0\n",
       "price                0\n",
       "state                0\n",
       "dtype: int64"
      ]
     },
     "execution_count": 98,
     "metadata": {},
     "output_type": "execute_result"
    }
   ],
   "source": [
    "#===============================================================================\n",
    "#            Missing Data Ceros, Revicion de campos con MAyores Valores Ceros\n",
    "#===============================================================================\n",
    "# Count NaN\n",
    "total_data2.isnull().sum().sort_values(ascending=False)"
   ]
  },
  {
   "cell_type": "code",
   "execution_count": 99,
   "metadata": {},
   "outputs": [
    {
     "ename": "",
     "evalue": "",
     "output_type": "error",
     "traceback": [
      "\u001b[1;31mThe Kernel crashed while executing code in the current cell or a previous cell. \n",
      "\u001b[1;31mPlease review the code in the cell(s) to identify a possible cause of the failure. \n",
      "\u001b[1;31mClick <a href='https://aka.ms/vscodeJupyterKernelCrash'>here</a> for more info. \n",
      "\u001b[1;31mView Jupyter <a href='command:jupyter.viewOutput'>log</a> for further details."
     ]
    }
   ],
   "source": [
    "#===============================================================================\n",
    "#        Esta Grafica me permite ver a donde se mueven los Datos\n",
    "#                       Datos Categórico\n",
    "#===============================================================================\n",
    "import matplotlib.pyplot as plt \n",
    "import seaborn as sns\n",
    "\n",
    "fig, axis = plt.subplots(4, 3, figsize=(10, 7))\n",
    "\n",
    "# Create Histogram\n",
    "sns.histplot(ax = axis[0,0], data = total_data, x = \"region\")\n",
    "sns.histplot(ax = axis[0,1], data = total_data, x = \"price\")\n",
    "sns.histplot(ax = axis[0,2], data = total_data, x = \"year\")\n",
    "sns.histplot(ax = axis[1,0], data = total_data, x = \"manofacturer\")\n",
    "sns.histplot(ax = axis[1,1], data = total_data, x = \"model\")\n",
    "sns.histplot(ax = axis[1,2], data = total_data, x = \"fuel\")\n",
    "sns.histplot(ax = axis[2,0], data = total_data, x = \"odometer\")\n",
    "sns.histplot(ax = axis[2,1], data = total_data, x = \"title_status\")\n",
    "sns.histplot(ax = axis[2,2], data = total_data, x = \"transmission  \")\n",
    "sns.histplot(ax = axis[3,0], data = total_data, x = \"drive\")\n",
    "sns.histplot(ax = axis[3,1], data = total_data, x = \"type\")\n",
    "sns.histplot(ax = axis[3,2], data = total_data, x = \"paint_color\")\n",
    "sns.histplot(ax = axis[4,0], data = total_data, x = \"state\")\n",
    "\n",
    "fig.delaxes(axis[1, 2])\n",
    "\n",
    "# Adjust layout\n",
    "plt.tight_layout()\n",
    "\n",
    "# Show the plot\n",
    "plt.show()"
   ]
  },
  {
   "cell_type": "code",
   "execution_count": null,
   "metadata": {},
   "outputs": [],
   "source": [
    "numeric_cols = df.select_dtypes(include=['number']).columns\n",
    "categorical_cols = df.select_dtypes(include=['object', 'category']).columns\n",
    "print(numeric_cols)\n",
    "print(categorical_cols)"
   ]
  },
  {
   "cell_type": "code",
   "execution_count": null,
   "metadata": {},
   "outputs": [],
   "source": []
  },
  {
   "cell_type": "code",
   "execution_count": null,
   "metadata": {},
   "outputs": [],
   "source": []
  },
  {
   "cell_type": "code",
   "execution_count": null,
   "metadata": {},
   "outputs": [],
   "source": []
  },
  {
   "cell_type": "code",
   "execution_count": null,
   "metadata": {},
   "outputs": [],
   "source": []
  },
  {
   "cell_type": "code",
   "execution_count": 27,
   "metadata": {},
   "outputs": [
    {
     "ename": "NameError",
     "evalue": "name 'total_data2' is not defined",
     "output_type": "error",
     "traceback": [
      "\u001b[1;31m---------------------------------------------------------------------------\u001b[0m",
      "\u001b[1;31mNameError\u001b[0m                                 Traceback (most recent call last)",
      "Cell \u001b[1;32mIn[27], line 27\u001b[0m\n\u001b[0;32m     18\u001b[0m     \u001b[38;5;28;01mreturn\u001b[39;00m Data_frame_filtrado\n\u001b[0;32m     21\u001b[0m \u001b[38;5;66;03m#===============================================================================\u001b[39;00m\n\u001b[0;32m     22\u001b[0m \u001b[38;5;66;03m#                Eliminar Outliners\u001b[39;00m\n\u001b[0;32m     23\u001b[0m \u001b[38;5;66;03m#===============================================================================\u001b[39;00m\n\u001b[0;32m     24\u001b[0m \u001b[38;5;66;03m# Copia del DataFrame para no tocar el original\u001b[39;00m\n\u001b[1;32m---> 27\u001b[0m total_data_sin_outliers \u001b[38;5;241m=\u001b[39m \u001b[43mtotal_data2\u001b[49m\u001b[38;5;241m.\u001b[39mcopy()\n\u001b[0;32m     28\u001b[0m \u001b[38;5;28;01mfor\u001b[39;00m valor \u001b[38;5;129;01min\u001b[39;00m Campoos:\n\u001b[0;32m     29\u001b[0m     \u001b[38;5;28mprint\u001b[39m(\u001b[38;5;124m'\u001b[39m\u001b[38;5;124mbloqueado\u001b[39m\u001b[38;5;124m'\u001b[39m)\n",
      "\u001b[1;31mNameError\u001b[0m: name 'total_data2' is not defined"
     ]
    }
   ],
   "source": [
    "#===============================================================================\n",
    "#                Funciones par Eliminar Outliners\n",
    "#===============================================================================\n",
    "\n",
    "\n",
    "def Eliminar_Outliner(Data_frame01, columnas):\n",
    "    Q1 = Data_frame01[columnas].quantile(0.25)\n",
    "    Q3 = Data_frame01[columnas].quantile(0.75)\n",
    "    IQR = Q3 - Q1\n",
    "    lower_bound = Q1 - 1.5 * IQR\n",
    "    upper_bound = Q3 + 1.8 * IQR\n",
    "    \n",
    "    # Filtrar los datos que están dentro de los límites\n",
    "    Data_frame_filtrado = Data_frame01[\n",
    "        (Data_frame01[columnas] >= lower_bound) & (Data_frame01[columnas] <= upper_bound)\n",
    "    ]\n",
    "    \n",
    "    return Data_frame_filtrado\n",
    "\n",
    "\n",
    "#===============================================================================\n",
    "#                Eliminar Outliners\n",
    "#===============================================================================\n",
    "# Copia del DataFrame para no tocar el original\n",
    "\n",
    "\n",
    "total_data_sin_outliers = total_data2.copy()\n",
    "for valor in Campoos:\n",
    "    print('bloqueado')\n",
    "    #total_data_sin_outliers = Eliminar_Outliner(total_data_sin_outliers, valor)\n",
    "print(f\"Nuevo tamaño del DataFrame: {total_data_sin_outliers.shape}\")\n"
   ]
  },
  {
   "cell_type": "code",
   "execution_count": null,
   "metadata": {},
   "outputs": [],
   "source": []
  },
  {
   "cell_type": "code",
   "execution_count": null,
   "metadata": {},
   "outputs": [],
   "source": []
  },
  {
   "cell_type": "markdown",
   "metadata": {},
   "source": [
    "### 📊 Comparación Rápida: Pearson vs Spearman\n",
    "\n",
    "| Característica              | `df.corr()` (Pearson)               | `spearmanr()` (Spearman)               |\n",
    "|----------------------------|--------------------------------------|----------------------------------------|\n",
    "| **Tipo de correlación**    | Lineal                               | Monótona (según rangos)                |\n",
    "| **Sensibilidad a outliers**| Alta                                 | Baja                                   |\n",
    "| **Requiere distribución normal** | Sí (idealmente)                   | No                                     |\n",
    "| **Devuelve**               | Matriz de correlación                | Valor único (coeficiente y p-valor)    |\n",
    "| **Soporte en Pandas**      | Sí (`.corr()`)                       | No (usa `scipy.stats.spearmanr`)       |\n",
    "| **Manejo de NaNs**         | Necesita `.dropna()`                 | También requiere sin NaNs              |\n",
    "| **Ideal para**             | Relaciones lineales y limpias        | Relaciones no lineales o con outliers  |\n",
    "\n",
    "### ✅ Recomendación\n",
    "- Usa **Pearson** si esperas una relación **lineal** y tus datos están **limpios y normalmente distribuidos**.\n",
    "- Usa **Spearman** si esperas una relación **monótona** (pero no necesariamente lineal), o si los datos tienen **outliers** o no siguen una distribución normal.\n"
   ]
  },
  {
   "cell_type": "code",
   "execution_count": null,
   "metadata": {},
   "outputs": [],
   "source": [
    "from scipy.stats import skew, kurtosis\n",
    "\n",
    "skewness = skew(total_data3['year'].dropna())\n",
    "kurt = kurtosis(total_data3['year'].dropna())\n",
    "\n",
    "print(f\"Asimetría (skew): {skewness:.2f}\")\n",
    "print(f\"Curtosis: {kurt:.2f}\")"
   ]
  }
 ],
 "metadata": {
  "kernelspec": {
   "display_name": "Python 3",
   "language": "python",
   "name": "python3"
  },
  "language_info": {
   "codemirror_mode": {
    "name": "ipython",
    "version": 3
   },
   "file_extension": ".py",
   "mimetype": "text/x-python",
   "name": "python",
   "nbconvert_exporter": "python",
   "pygments_lexer": "ipython3",
   "version": "3.10.2"
  }
 },
 "nbformat": 4,
 "nbformat_minor": 2
}
